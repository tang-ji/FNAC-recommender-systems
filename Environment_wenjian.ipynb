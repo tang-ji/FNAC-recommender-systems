{
 "cells": [
  {
   "cell_type": "code",
   "execution_count": 1,
   "metadata": {},
   "outputs": [],
   "source": [
    "import numpy as np\n",
    "from Client import Clients"
   ]
  },
  {
   "cell_type": "code",
   "execution_count": 2,
   "metadata": {},
   "outputs": [],
   "source": [
    "category_dict = {}\n",
    "category_dict[\"Informatique\"] = [\"Tablette\", \"Ordinateur\", \"Portable\"]\n",
    "category_dict[\"Film\"] = [\"DVD\", \"TV\", \"Cinéma\"]"
   ]
  },
  {
   "cell_type": "code",
   "execution_count": 3,
   "metadata": {},
   "outputs": [],
   "source": [
    "# def count(y):\n",
    "#     return sum([len(y.get(x, 0)) for x in y])"
   ]
  },
  {
   "cell_type": "code",
   "execution_count": 4,
   "metadata": {},
   "outputs": [],
   "source": [
    "# class Client:\n",
    "#     def __init__(self, n_client, category_dict):\n",
    "#         self.category_dict = category_dict\n",
    "#         self.n_client = n_client\n",
    "#         self.n_category = len(category_dict.keys())\n",
    "#         self.n_commodity = count(category_dict)\n",
    "#         self.preference_matrix = np.zeros((n_client, self.n_commodity))\n",
    "        \n",
    "#     def generate_client_distribution():\n",
    "#         np.random.uniform(0, 0.8, (n_client, self.n_category)) + "
   ]
  },
  {
   "cell_type": "code",
   "execution_count": 5,
   "metadata": {},
   "outputs": [],
   "source": [
    "C = Clients(n_client=10, category_dict=category_dict)"
   ]
  },
  {
   "cell_type": "code",
   "execution_count": 6,
   "metadata": {
    "scrolled": true
   },
   "outputs": [
    {
     "name": "stdout",
     "output_type": "stream",
     "text": [
      "[[0.87582018 0.82167852 0.85616648 0.18628541 0.24837628 0.25507377]\n",
      " [0.43796762 0.39778533 0.44743938 0.40563434 0.36802372 0.41824772]\n",
      " [0.74435053 0.75785016 0.81834957 0.5557154  0.56070046 0.56899275]\n",
      " [0.11470947 0.11276636 0.09462537 0.79135219 0.8065881  0.86343222]\n",
      " [0.55980421 0.51121649 0.5171639  0.87315152 0.93411681 0.93216036]\n",
      " [0.08398602 0.06268527 0.06802918 0.93344043 0.93876124 0.8868556 ]\n",
      " [0.83596329 0.76554247 0.82493553 0.31882235 0.40573351 0.3432796 ]\n",
      " [0.90253139 0.86878381 0.81869009 0.52198014 0.49820257 0.47022956]\n",
      " [0.1591542  0.14240138 0.19219568 0.82857368 0.78685985 0.79334344]\n",
      " [0.56526136 0.57228144 0.55003298 0.5051399  0.54458338 0.46807311]]\n"
     ]
    }
   ],
   "source": [
    "print(C.proba_commodity)"
   ]
  },
  {
   "cell_type": "code",
   "execution_count": 7,
   "metadata": {},
   "outputs": [
    {
     "name": "stdout",
     "output_type": "stream",
     "text": [
      "Informatique\n"
     ]
    }
   ],
   "source": [
    "print(C.category_list[0])"
   ]
  },
  {
   "cell_type": "code",
   "execution_count": null,
   "metadata": {},
   "outputs": [],
   "source": []
  },
  {
   "cell_type": "code",
   "execution_count": 2,
   "metadata": {},
   "outputs": [],
   "source": [
    "class AgentBase():\n",
    "    def __init__(self, commodity_number, recommendation_length):\n",
    "        raise NotImplementedError()\n",
    "    \n",
    "    def recommend(self, online_client):\n",
    "        raise NotImplementedError()\n",
    "    \n",
    "    def update_state(self, recommendation_chosen, reward):\n",
    "        raise NotImplementedError()\n",
    "        \n",
    "    def get_agent_name(self):\n",
    "        raise NotImplementedError()"
   ]
  },
  {
   "cell_type": "code",
   "execution_count": null,
   "metadata": {},
   "outputs": [],
   "source": [
    "class RandomAgent(AgentBase):\n",
    "    def __init__(self, commodity_number, recommendation_length=5):\n",
    "        self.name = 'random agent'\n",
    "        self.commodity_number = commodity_number\n",
    "        self.recommendation_length = recommendation_length\n",
    "        \n",
    "    def recommend(self, online_client):\n",
    "        return np.random.randint(0, commodity_number)\n",
    "    \n",
    "    def update_state(self, recommendation_chosen, reward):\n",
    "        pass\n",
    "    \n",
    "    def get_agent_name(self):\n",
    "        return self.name"
   ]
  }
 ],
 "metadata": {
  "kernelspec": {
   "display_name": "Python 3",
   "language": "python",
   "name": "python3"
  },
  "language_info": {
   "codemirror_mode": {
    "name": "ipython",
    "version": 3
   },
   "file_extension": ".py",
   "mimetype": "text/x-python",
   "name": "python",
   "nbconvert_exporter": "python",
   "pygments_lexer": "ipython3",
   "version": "3.6.8"
  }
 },
 "nbformat": 4,
 "nbformat_minor": 2
}
