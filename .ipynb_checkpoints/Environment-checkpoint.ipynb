{
 "cells": [
  {
   "cell_type": "markdown",
   "metadata": {},
   "source": [
    "## Recommandation system environment setting\n",
    "\n",
    "This is a virtual [FNAC](https://en.wikipedia.org/wiki/Fnac) recommandation system environment for simulating its users preferences and orders.\n",
    "\n",
    "<img src=\\\"imgs/Fnac_Logo.png\\\" width=\\\"200\\\">\n"
   ]
  },
  {
   "cell_type": "code",
   "execution_count": 1,
   "metadata": {},
   "outputs": [],
   "source": [
    "import numpy as np\n",
    "import matplotlib.pyplot as plt\n",
    "import copy\n",
    "\n",
    "%matplotlib inline"
   ]
  },
  {
   "cell_type": "code",
   "execution_count": 2,
   "metadata": {},
   "outputs": [],
   "source": [
    "category_dict = {}\n",
    "category_dict[\"Informatique\"] = [\"Tablette\", \"Ordinateur\", \"Portable\"]\n",
    "category_dict[\"Film\"] = [\"DVD\", \"TV\", \"Cinéma\"]"
   ]
  },
  {
   "cell_type": "code",
   "execution_count": 3,
   "metadata": {},
   "outputs": [
    {
     "ename": "SyntaxError",
     "evalue": "invalid syntax (<ipython-input-3-bb7c056e2134>, line 2)",
     "output_type": "error",
     "traceback": [
      "\u001b[0;36m  File \u001b[0;32m\"<ipython-input-3-bb7c056e2134>\"\u001b[0;36m, line \u001b[0;32m2\u001b[0m\n\u001b[0;31m    for\u001b[0m\n\u001b[0m       ^\u001b[0m\n\u001b[0;31mSyntaxError\u001b[0m\u001b[0;31m:\u001b[0m invalid syntax\n"
     ]
    }
   ],
   "source": [
    "def generate_random_category(i, j):\n",
    "    for"
   ]
  },
  {
   "cell_type": "code",
   "execution_count": 3,
   "metadata": {},
   "outputs": [],
   "source": [
    "def count(y):\n",
    "    return sum([len(y.get(x, 0)) for x in y])"
   ]
  },
  {
   "cell_type": "code",
   "execution_count": 4,
   "metadata": {},
   "outputs": [],
   "source": [
    "class Clients:\n",
    "    def __init__(self, n_client, category_dict, desire_threshold=2):\n",
    "        self.category_dict = category_dict\n",
    "        self.category_list = list(category_dict.keys())\n",
    "        self.n_client = n_client\n",
    "        self.n_category = len(category_dict.keys())\n",
    "        self.n_commodity = count(category_dict)\n",
    "        self.desire_threshold_list = [desire_threshold] * n_client\n",
    "        self.preference_matrix = np.zeros((n_client, self.n_commodity))\n",
    "        self.desire_matrix = np.zeros((n_client, self.n_commodity))\n",
    "        \n",
    "        self.reward_history = []\n",
    "        self.regret_history = []\n",
    "        self.reward_sum_each_step = []\n",
    "        \n",
    "        self.generate_client_distribution()\n",
    "        \n",
    "    def generate_client_distribution(self):\n",
    "        proba_category = np.random.uniform(0, 0.9, (self.n_client, self.n_category))\n",
    "        proba_commodity_list = []\n",
    "        for j in range(proba_category.shape[1]):\n",
    "            #print('---aaa---', np.expand_dims(proba_category[:,j],1).shape)\n",
    "            proba_commodity_list.append(np.repeat(np.expand_dims(proba_category[:,j],1), len(self.category_dict[self.category_list[j]]), axis=1))\n",
    "        self.preference_matrix = np.hstack(proba_commodity_list)\n",
    "        #print(proba_commodity_list[0].shape)\n",
    "        #print(proba_commodity_list[1].shape)\n",
    "        #print(self.proba_commodity.shape)\n",
    "        self.preference_matrix += np.random.uniform(0, 0.1, (self.n_client, self.n_commodity))\n",
    "        return\n",
    "    \n",
    "    def get_clients(self, n):\n",
    "        return np.random.choice(list(range(self.n_client)), n, replace=False)\n",
    "    \n",
    "    def update_desire(self, clients_list, rate_rise=None, rate_decay=0.01):\n",
    "        if rate_decay is not None:\n",
    "            self.desire_matrix *= 1 - rate_decay\n",
    "        \n",
    "        if rate_rise is None:\n",
    "            rate_rise = np.mean(desire_threshold) * 0.5\n",
    "        if rate_rise < 0:\n",
    "            rate_rise = 0\n",
    "        self.desire_matrix[clients_list] += rate_rise * self.preference_matrix[clients_list]\n",
    "    \n",
    "    def get_waiting_list(self, client):\n",
    "        client_desire = self.desire_matrix[client]\n",
    "        return np.where(client_desire>self.desire_threshold_list[client])[0]\n",
    "    \n",
    "    def return_command(self, client, recommandation_list):\n",
    "        client_waiting_list = self.get_waiting_list(client)\n",
    "        command_list = np.array([x for x in recommandation_list if x in client_waiting_list])\n",
    "        for c in command_list:\n",
    "            self.desire_matrix[client][c] = 0\n",
    "        return command_list\n",
    "    \n",
    "#     def get_reward(self, client, recommandation_list):\n",
    "#         articles_bought = self.return_command(client, recommandation_list)\n",
    "#         self.reward_history.append(len(articles_bought))\n",
    "#         return len(articles_bought)\n",
    "    def get_reward(self, client, recommandation_list):\n",
    "        articles_bought = self.return_command(client, recommandation_list)\n",
    "        reward_list = [0]*len(recommandation_list)\n",
    "        for a in articles_bought:\n",
    "            index = np.where(recommandation_list==a)[0][0]\n",
    "            #print('---aaa---', index)\n",
    "            reward_list[index] = 1\n",
    "            \n",
    "        #self.reward_history.append(reward_list) \n",
    "        #self.reward_sum_each_step.append(sum(reward_list))\n",
    "        \n",
    "        return reward_list\n",
    "        \n",
    "    def get_regret(self, client, recommandation_list):\n",
    "        #articles_bought = self.return_command(client, recommandation)\n",
    "        articles_wanted_to_buy = self.get_waiting_list(client)\n",
    "        regret = min(len(articles_wanted_to_buy), len(recommandation_list)) - sum(self.get_reward(client, recommandation_list))\n",
    "        #self.regret_history.append(regret)\n",
    "        return regret\n",
    "    \n",
    "    def update_history(self, reward_list, regret):\n",
    "        self.reward_history.append(reward_list) \n",
    "        self.reward_sum_each_step.append(sum(reward_list))\n",
    "        self.regret_history.append(regret)"
   ]
  },
  {
   "cell_type": "code",
   "execution_count": 30,
   "metadata": {},
   "outputs": [
    {
     "data": {
      "text/plain": [
       "2"
      ]
     },
     "execution_count": 30,
     "metadata": {},
     "output_type": "execute_result"
    }
   ],
   "source": [
    "np.where(np.array([1,2,3,4,3])==3)[0][0]"
   ]
  },
  {
   "cell_type": "code",
   "execution_count": null,
   "metadata": {},
   "outputs": [],
   "source": []
  },
  {
   "cell_type": "code",
   "execution_count": 5,
   "metadata": {},
   "outputs": [],
   "source": [
    "class AgentBase():\n",
    "    def __init__(self, commodity_number, recommendation_length):\n",
    "        raise NotImplementedError()\n",
    "    \n",
    "    def recommend(self, online_client):\n",
    "        raise NotImplementedError()\n",
    "    \n",
    "    def update_state(self, recommendation_chosen, reward):\n",
    "        raise NotImplementedError()\n",
    "        \n",
    "    def get_agent_name(self):\n",
    "        return self.name"
   ]
  },
  {
   "cell_type": "code",
   "execution_count": 38,
   "metadata": {},
   "outputs": [],
   "source": [
    "class RandomAgent(AgentBase):\n",
    "    def __init__(self, user_number, commodity_number, recommendation_length=5):\n",
    "        self.name = 'random agent'\n",
    "        self.commodity_number = commodity_number\n",
    "        self.recommendation_length = recommendation_length\n",
    "        self.recommendation_history = []\n",
    "        self.reward_history = []\n",
    "        self.reward_sum_each_step = []\n",
    "        self.t = 1\n",
    "        \n",
    "    def recommend(self, client_id):\n",
    "        return np.random.choice(range(self.commodity_number), self.recommendation_length, replace=False)\n",
    "    \n",
    "    def update_state(self, client_id, recommendations_chosen, reward_list):\n",
    "        \n",
    "        self.t += 1\n",
    "        self.recommendation_history.append(recommendations_chosen)\n",
    "        self.reward_history.append(reward_list)\n",
    "        self.reward_sum_each_step.append(sum(reward_list))"
   ]
  },
  {
   "cell_type": "code",
   "execution_count": 23,
   "metadata": {},
   "outputs": [],
   "source": [
    "class UCBAgent(AgentBase):\n",
    "    def __init__(self, user_number, commodity_number, recommendation_length=5, constant=1):\n",
    "        self.name = 'ucb agent'\n",
    "        self.commodity_number = commodity_number\n",
    "        self.user_number = user_number\n",
    "        self.recommendation_length = recommendation_length\n",
    "        self.recommendation_history = []\n",
    "        self.reward_history = []\n",
    "        self.reward_sum_each_step = []\n",
    "        \n",
    "        self.n_by_commodity = np.zeros((user_number, commodity_number))  # How many times that a commodity has been recomended to a user\n",
    "        self.reward_by_commodity = np.zeros((user_number, commodity_number))  # How much reward has been given to a specific user by a specific commodity\n",
    "        self.constant = constant\n",
    "        self.t = 1\n",
    "        \n",
    "    def recommend(self, client_id):\n",
    "        ucbs = [self.reward_by_commodity[client_id, a] / self.n_by_commodity[client_id, a] \n",
    "                + self.constant*np.sqrt(np.log(self.t)/self.n_by_commodity[client_id, a]) \n",
    "                for a in range(self.commodity_number)]\n",
    "        ucbs = np.array(ucbs)\n",
    "        return ucbs.argsort()[-self.recommendation_length:][::-1] # select the top self.recommendation_length articles, return their indices by order\n",
    "        \n",
    "    def update_state(self, client_id, recommendations_chosen, reward_list):\n",
    "        for i, a in enumerate(recommendations_chosen):\n",
    "            self.n_by_commodity[client_id, a] += 1\n",
    "            self.reward_by_commodity[client_id, a] += reward_list[i]\n",
    "        \n",
    "        self.t += 1\n",
    "        \n",
    "        self.recommendation_history.append(recommendations_chosen)\n",
    "        self.reward_history.append(reward_list)\n",
    "        self.reward_sum_each_step.append(sum(reward_list))"
   ]
  },
  {
   "cell_type": "code",
   "execution_count": null,
   "metadata": {},
   "outputs": [],
   "source": []
  },
  {
   "cell_type": "code",
   "execution_count": 40,
   "metadata": {},
   "outputs": [],
   "source": [
    "def run(env, agent, n):\n",
    "    for _ in range(n):\n",
    "        active_clients = env.get_clients(1)\n",
    "        env.update_desire(active_clients, rate_rise=0.5)\n",
    "        for c in active_clients:\n",
    "            recomedation_list = agent.recommend(c)\n",
    "            reward_list = env.get_reward(c, recomedation_list)\n",
    "            regret = env.get_regret(c, recomedation_list)\n",
    "            env.update_history(reward_list, regret)\n",
    "            agent.update_state(c, recomedation_list, reward_list)"
   ]
  },
  {
   "cell_type": "code",
   "execution_count": 41,
   "metadata": {},
   "outputs": [],
   "source": [
    "C = Clients(n_client=10, category_dict=category_dict)\n",
    "\n",
    "\n",
    "\n",
    "            "
   ]
  },
  {
   "cell_type": "code",
   "execution_count": 42,
   "metadata": {},
   "outputs": [
    {
     "name": "stdout",
     "output_type": "stream",
     "text": [
      "---ccc--- 2\n",
      "---ccc--- 3\n",
      "---ccc--- 4\n",
      "---ccc--- 5\n",
      "---ccc--- 6\n",
      "---ccc--- 7\n",
      "---ccc--- 8\n",
      "---ccc--- 9\n",
      "---ccc--- 10\n",
      "---ccc--- 11\n",
      "---ccc--- 12\n",
      "---ccc--- 13\n",
      "---ccc--- 14\n",
      "---ccc--- 15\n",
      "---ccc--- 16\n",
      "---ccc--- 17\n",
      "---ccc--- 18\n",
      "---ccc--- 19\n",
      "---ccc--- 20\n",
      "---ccc--- 21\n",
      "---ccc--- 22\n",
      "---ccc--- 23\n",
      "---ccc--- 24\n",
      "---ccc--- 25\n",
      "---ccc--- 26\n",
      "---ccc--- 27\n",
      "---ccc--- 28\n",
      "---ccc--- 29\n",
      "---ccc--- 30\n",
      "---ccc--- 31\n",
      "---ccc--- 32\n",
      "---ccc--- 33\n",
      "---ccc--- 34\n",
      "---ccc--- 35\n",
      "---ccc--- 36\n",
      "---ccc--- 37\n",
      "---ccc--- 38\n",
      "---ccc--- 39\n",
      "---ccc--- 40\n",
      "---ccc--- 41\n",
      "---ccc--- 42\n",
      "---ccc--- 43\n",
      "---ccc--- 44\n",
      "---ccc--- 45\n",
      "---ccc--- 46\n",
      "---ccc--- 47\n",
      "---ccc--- 48\n",
      "---ccc--- 49\n",
      "---ccc--- 50\n",
      "---ccc--- 51\n",
      "---ccc--- 52\n",
      "---ccc--- 53\n",
      "---ccc--- 54\n",
      "---ccc--- 55\n",
      "---ccc--- 56\n",
      "---ccc--- 57\n",
      "---ccc--- 58\n",
      "---ccc--- 59\n",
      "---ccc--- 60\n",
      "---ccc--- 61\n",
      "---ccc--- 62\n",
      "---ccc--- 63\n",
      "---ccc--- 64\n",
      "---ccc--- 65\n",
      "---ccc--- 66\n",
      "---ccc--- 67\n",
      "---ccc--- 68\n",
      "---ccc--- 69\n",
      "---ccc--- 70\n",
      "---ccc--- 71\n",
      "---ccc--- 72\n",
      "---ccc--- 73\n",
      "---ccc--- 74\n",
      "---ccc--- 75\n",
      "---ccc--- 76\n",
      "---ccc--- 77\n",
      "---ccc--- 78\n",
      "---ccc--- 79\n",
      "---ccc--- 80\n",
      "---ccc--- 81\n",
      "---ccc--- 82\n",
      "---ccc--- 83\n",
      "---ccc--- 84\n",
      "---ccc--- 85\n",
      "---ccc--- 86\n",
      "---ccc--- 87\n",
      "---ccc--- 88\n",
      "---ccc--- 89\n",
      "---ccc--- 90\n",
      "---ccc--- 91\n",
      "---ccc--- 92\n",
      "---ccc--- 93\n",
      "---ccc--- 94\n",
      "---ccc--- 95\n",
      "---ccc--- 96\n",
      "---ccc--- 97\n",
      "---ccc--- 98\n",
      "---ccc--- 99\n",
      "---ccc--- 100\n",
      "---ccc--- 101\n"
     ]
    }
   ],
   "source": [
    "C1 = copy.deepcopy(C)\n",
    "random_agent = RandomAgent(C1.n_client, C1.n_commodity, recommendation_length=2)\n",
    "run(C1, random_agent, 100)"
   ]
  },
  {
   "cell_type": "code",
   "execution_count": 43,
   "metadata": {},
   "outputs": [
    {
     "data": {
      "text/plain": [
       "<matplotlib.legend.Legend at 0x7fb48a996e80>"
      ]
     },
     "execution_count": 43,
     "metadata": {},
     "output_type": "execute_result"
    },
    {
     "data": {
      "image/png": "[encoded data removed]",
      "text/plain": [
       "<Figure size 432x288 with 1 Axes>"
      ]
     },
     "metadata": {},
     "output_type": "display_data"
    }
   ],
   "source": [
    "plt.plot(np.cumsum(C1.regret_history))\n",
    "plt.plot(np.cumsum(C1.reward_sum_each_step))\n",
    "plt.legend([\"culmulate Regret\", \"culmulate Reward\"])"
   ]
  },
  {
   "cell_type": "code",
   "execution_count": 37,
   "metadata": {},
   "outputs": [
    {
     "data": {
      "text/plain": [
       "500"
      ]
     },
     "execution_count": 37,
     "metadata": {},
     "output_type": "execute_result"
    }
   ],
   "source": [
    "len(C1.reward_sum_each_step)"
   ]
  },
  {
   "cell_type": "code",
   "execution_count": 44,
   "metadata": {},
   "outputs": [
    {
     "name": "stderr",
     "output_type": "stream",
     "text": [
      "/home/dongwenjian/anaconda3/lib/python3.6/site-packages/ipykernel_launcher.py:19: RuntimeWarning: invalid value encountered in double_scalars\n",
      "/home/dongwenjian/anaconda3/lib/python3.6/site-packages/ipykernel_launcher.py:19: RuntimeWarning: divide by zero encountered in double_scalars\n"
     ]
    }
   ],
   "source": [
    "C2 = copy.deepcopy(C)\n",
    "ucb_agent = UCBAgent(C2.n_client, C2.n_commodity, recommendation_length=2)\n",
    "run(C2, ucb_agent, 100)"
   ]
  },
  {
   "cell_type": "code",
   "execution_count": 45,
   "metadata": {},
   "outputs": [
    {
     "data": {
      "text/plain": [
       "<matplotlib.legend.Legend at 0x7fb48a8ebf60>"
      ]
     },
     "execution_count": 45,
     "metadata": {},
     "output_type": "execute_result"
    },
    {
     "data": {
      "image/png": "[encoded data removed]",
      "text/plain": [
       "<Figure size 432x288 with 1 Axes>"
      ]
     },
     "metadata": {},
     "output_type": "display_data"
    }
   ],
   "source": [
    "plt.plot(np.cumsum(C2.regret_history))\n",
    "plt.plot(np.cumsum(C2.reward_sum_each_step))\n",
    "plt.legend([\"culmulate Regret\", \"culmulate Reward\"])"
   ]
  },
  {
   "cell_type": "code",
   "execution_count": null,
   "metadata": {},
   "outputs": [],
   "source": []
  },
  {
   "cell_type": "code",
   "execution_count": null,
   "metadata": {},
   "outputs": [],
   "source": []
  },
  {
   "cell_type": "code",
   "execution_count": 127,
   "metadata": {},
   "outputs": [
    {
     "data": {
      "text/plain": [
       "array([2, 1])"
      ]
     },
     "execution_count": 127,
     "metadata": {},
     "output_type": "execute_result"
    }
   ],
   "source": [
    "np.random.choice([1,2,3], 2, replace=False)"
   ]
  },
  {
   "cell_type": "code",
   "execution_count": 123,
   "metadata": {},
   "outputs": [],
   "source": [
    "C.update_desire(C.get_clients(1), rate_rise=0.5)"
   ]
  },
  {
   "cell_type": "code",
   "execution_count": 124,
   "metadata": {},
   "outputs": [
    {
     "data": {
      "text/plain": [
       "array([[0.        , 0.        , 0.        , 0.        , 0.        ,\n",
       "        0.        ],\n",
       "       [0.        , 0.        , 0.        , 0.        , 0.        ,\n",
       "        0.        ],\n",
       "       [0.        , 0.        , 0.        , 0.        , 0.        ,\n",
       "        0.        ],\n",
       "       [0.        , 0.        , 0.        , 0.        , 0.        ,\n",
       "        0.        ],\n",
       "       [0.        , 0.        , 0.        , 0.        , 0.        ,\n",
       "        0.        ],\n",
       "       [0.        , 0.        , 0.        , 0.        , 0.        ,\n",
       "        0.        ],\n",
       "       [0.        , 0.        , 0.        , 0.        , 0.        ,\n",
       "        0.        ],\n",
       "       [0.        , 0.        , 0.        , 0.        , 0.        ,\n",
       "        0.        ],\n",
       "       [0.        , 0.        , 0.        , 0.        , 0.        ,\n",
       "        0.        ],\n",
       "       [0.42446944, 0.38809191, 0.40641486, 0.35376478, 0.34405558,\n",
       "        0.33749734]])"
      ]
     },
     "execution_count": 124,
     "metadata": {},
     "output_type": "execute_result"
    }
   ],
   "source": [
    "C.desire_matrix"
   ]
  },
  {
   "cell_type": "code",
   "execution_count": 95,
   "metadata": {},
   "outputs": [
    {
     "data": {
      "text/plain": [
       "array([], dtype=float64)"
      ]
     },
     "execution_count": 95,
     "metadata": {},
     "output_type": "execute_result"
    }
   ],
   "source": [
    "C.get_waiting_list(0)"
   ]
  },
  {
   "cell_type": "code",
   "execution_count": 85,
   "metadata": {},
   "outputs": [
    {
     "data": {
      "text/plain": [
       "array([list([1]), list([1, 2])], dtype=object)"
      ]
     },
     "execution_count": 85,
     "metadata": {},
     "output_type": "execute_result"
    }
   ],
   "source": [
    "np.array([[1], [1,2]])"
   ]
  },
  {
   "cell_type": "code",
   "execution_count": null,
   "metadata": {},
   "outputs": [],
   "source": []
  }
 ],
 "metadata": {
  "kernelspec": {
   "display_name": "Python 3",
   "language": "python",
   "name": "python3"
  },
  "language_info": {
   "codemirror_mode": {
    "name": "ipython",
    "version": 3
   },
   "file_extension": ".py",
   "mimetype": "text/x-python",
   "name": "python",
   "nbconvert_exporter": "python",
   "pygments_lexer": "ipython3",
   "version": "3.7.6"
  }
 },
 "nbformat": 4,
 "nbformat_minor": 2
}
