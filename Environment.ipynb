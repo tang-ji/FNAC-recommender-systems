{
 "cells": [
  {
   "cell_type": "code",
   "execution_count": 1,
   "metadata": {},
   "outputs": [],
   "source": [
    "import numpy as np"
   ]
  },
  {
   "cell_type": "code",
   "execution_count": 2,
   "metadata": {},
   "outputs": [],
   "source": [
    "category_dict = {}\n",
    "category_dict[\"Informatique\"] = [\"Tablette\", \"Ordinateur\", \"Portable\"]\n",
    "category_dict[\"Film\"] = [\"DVD\", \"TV\", \"Cinéma\"]"
   ]
  },
  {
   "cell_type": "code",
   "execution_count": null,
   "metadata": {},
   "outputs": [],
   "source": [
    "def generate_random_category(i, j):\n",
    "    for"
   ]
  },
  {
   "cell_type": "code",
   "execution_count": 4,
   "metadata": {},
   "outputs": [],
   "source": [
    "def count(y):\n",
    "    return sum([len(y.get(x, 0)) for x in y])"
   ]
  },
  {
   "cell_type": "code",
   "execution_count": 120,
   "metadata": {},
   "outputs": [],
   "source": [
    "class Clients:\n",
    "    def __init__(self, n_client, category_dict, desire_threshold=2):\n",
    "        self.category_dict = category_dict\n",
    "        self.category_list = list(category_dict.keys())\n",
    "        self.n_client = n_client\n",
    "        self.n_category = len(category_dict.keys())\n",
    "        self.n_commodity = count(category_dict)\n",
    "        self.desire_threshold_list = [desire_threshold] * n_client\n",
    "        self.preference_matrix = np.zeros((n_client, self.n_commodity))\n",
    "        self.desire_matrix = np.zeros((n_client, self.n_commodity))\n",
    "        \n",
    "        self.generate_client_distribution()\n",
    "        \n",
    "    def generate_client_distribution(self):\n",
    "        proba_category = np.random.uniform(0, 0.9, (self.n_client, self.n_category))\n",
    "        proba_commodity_list = []\n",
    "        for j in range(proba_category.shape[1]):\n",
    "            #print('---aaa---', np.expand_dims(proba_category[:,j],1).shape)\n",
    "            proba_commodity_list.append(np.repeat(np.expand_dims(proba_category[:,j],1), len(self.category_dict[self.category_list[j]]), axis=1))\n",
    "        self.preference_matrix = np.hstack(proba_commodity_list)\n",
    "        #print(proba_commodity_list[0].shape)\n",
    "        #print(proba_commodity_list[1].shape)\n",
    "        #print(self.proba_commodity.shape)\n",
    "        self.preference_matrix += np.random.uniform(0, 0.1, (self.n_client, self.n_commodity))\n",
    "        return\n",
    "    \n",
    "    def get_clients(self, n):\n",
    "        return np.random.choice(list(range(self.n_client)), n, replace=False)\n",
    "    \n",
    "    def update_desire(self, clients_list, rate_rise=None, rate_decay=0.01):\n",
    "        if rate_decay is not None:\n",
    "            self.desire_matrix *= 1 - rate_decay\n",
    "        \n",
    "        if rate_rise is None:\n",
    "            rate_rise = np.mean(desire_threshold) * 0.3\n",
    "        if rate_rise < 0:\n",
    "            rate_rise = 0\n",
    "        self.desire_matrix[clients_list] += rate_rise * self.preference_matrix[clients_list]\n",
    "    \n",
    "    def get_waiting_list(self, client):\n",
    "        client_desire = self.desire_matrix[client]\n",
    "        return client_desire[client_desire>self.desire_threshold_list[client]]\n",
    "    \n",
    "    def return_command(self, client, recommandation_list):\n",
    "        client_waiting_list = self.get_waiting_list(client)\n",
    "        command_list = np.array([x for x in recommandation_list if x in client_waiting_list])\n",
    "        self.desire_matrix[client][command_list] = 0\n",
    "        return command_list"
   ]
  },
  {
   "cell_type": "code",
   "execution_count": 121,
   "metadata": {},
   "outputs": [],
   "source": [
    "C = Clients(n_client=10, category_dict=category_dict)"
   ]
  },
  {
   "cell_type": "code",
   "execution_count": 122,
   "metadata": {
    "scrolled": true
   },
   "outputs": [
    {
     "data": {
      "text/plain": [
       "array([5, 3, 4, 2, 8])"
      ]
     },
     "execution_count": 122,
     "metadata": {},
     "output_type": "execute_result"
    }
   ],
   "source": [
    "C.get_clients(5)"
   ]
  },
  {
   "cell_type": "code",
   "execution_count": 125,
   "metadata": {},
   "outputs": [
    {
     "ename": "SyntaxError",
     "evalue": "invalid syntax (<ipython-input-125-d87058f799cb>, line 1)",
     "output_type": "error",
     "traceback": [
      "\u001b[0;36m  File \u001b[0;32m\"<ipython-input-125-d87058f799cb>\"\u001b[0;36m, line \u001b[0;32m1\u001b[0m\n\u001b[0;31m    def run()\u001b[0m\n\u001b[0m             ^\u001b[0m\n\u001b[0;31mSyntaxError\u001b[0m\u001b[0;31m:\u001b[0m invalid syntax\n"
     ]
    }
   ],
   "source": [
    "def run(n):\n",
    "    C = Clients(n_client=10, category_dict=category_dict)\n",
    "    for _ in range(n):\n",
    "        active_clients = C.get_clients(5)\n",
    "        C.update_desire(active_clients, rate_rise=0.5)\n",
    "        for c in active_clients:\n",
    "            C.get_reward(c, np.random.choice([1,2,3], 1, replace=False))"
   ]
  },
  {
   "cell_type": "code",
   "execution_count": 127,
   "metadata": {},
   "outputs": [
    {
     "data": {
      "text/plain": [
       "array([2, 1])"
      ]
     },
     "execution_count": 127,
     "metadata": {},
     "output_type": "execute_result"
    }
   ],
   "source": [
    "np.random.choice([1,2,3], 2, replace=False)"
   ]
  },
  {
   "cell_type": "code",
   "execution_count": 123,
   "metadata": {},
   "outputs": [],
   "source": [
    "C.update_desire(C.get_clients(1), rate_rise=0.5)"
   ]
  },
  {
   "cell_type": "code",
   "execution_count": 124,
   "metadata": {},
   "outputs": [
    {
     "data": {
      "text/plain": [
       "array([[0.        , 0.        , 0.        , 0.        , 0.        ,\n",
       "        0.        ],\n",
       "       [0.        , 0.        , 0.        , 0.        , 0.        ,\n",
       "        0.        ],\n",
       "       [0.        , 0.        , 0.        , 0.        , 0.        ,\n",
       "        0.        ],\n",
       "       [0.        , 0.        , 0.        , 0.        , 0.        ,\n",
       "        0.        ],\n",
       "       [0.        , 0.        , 0.        , 0.        , 0.        ,\n",
       "        0.        ],\n",
       "       [0.        , 0.        , 0.        , 0.        , 0.        ,\n",
       "        0.        ],\n",
       "       [0.        , 0.        , 0.        , 0.        , 0.        ,\n",
       "        0.        ],\n",
       "       [0.        , 0.        , 0.        , 0.        , 0.        ,\n",
       "        0.        ],\n",
       "       [0.        , 0.        , 0.        , 0.        , 0.        ,\n",
       "        0.        ],\n",
       "       [0.42446944, 0.38809191, 0.40641486, 0.35376478, 0.34405558,\n",
       "        0.33749734]])"
      ]
     },
     "execution_count": 124,
     "metadata": {},
     "output_type": "execute_result"
    }
   ],
   "source": [
    "C.desire_matrix"
   ]
  },
  {
   "cell_type": "code",
   "execution_count": 95,
   "metadata": {},
   "outputs": [
    {
     "data": {
      "text/plain": [
       "array([], dtype=float64)"
      ]
     },
     "execution_count": 95,
     "metadata": {},
     "output_type": "execute_result"
    }
   ],
   "source": [
    "C.get_waiting_list(0)"
   ]
  },
  {
   "cell_type": "code",
   "execution_count": 85,
   "metadata": {},
   "outputs": [
    {
     "data": {
      "text/plain": [
       "array([list([1]), list([1, 2])], dtype=object)"
      ]
     },
     "execution_count": 85,
     "metadata": {},
     "output_type": "execute_result"
    }
   ],
   "source": [
    "np.array([[1], [1,2]])"
   ]
  },
  {
   "cell_type": "code",
   "execution_count": null,
   "metadata": {},
   "outputs": [],
   "source": []
  }
 ],
 "metadata": {
  "kernelspec": {
   "display_name": "Python 3",
   "language": "python",
   "name": "python3"
  },
  "language_info": {
   "codemirror_mode": {
    "name": "ipython",
    "version": 3
   },
   "file_extension": ".py",
   "mimetype": "text/x-python",
   "name": "python",
   "nbconvert_exporter": "python",
   "pygments_lexer": "ipython3",
   "version": "3.7.5"
  }
 },
 "nbformat": 4,
 "nbformat_minor": 2
}
