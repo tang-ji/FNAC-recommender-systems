{
 "cells": [
  {
   "cell_type": "code",
   "execution_count": 1,
   "metadata": {},
   "outputs": [],
   "source": [
    "import numpy as np"
   ]
  },
  {
   "cell_type": "code",
   "execution_count": 2,
   "metadata": {},
   "outputs": [],
   "source": [
    "category_dict = {}\n",
    "category_dict[\"Informatique\"] = [\"Tablette\", \"Ordinateur\", \"Portable\"]\n",
    "category_dict[\"Film\"] = [\"DVD\", \"TV\", \"Cinéma\"]"
   ]
  },
  {
   "cell_type": "code",
   "execution_count": 4,
   "metadata": {},
   "outputs": [],
   "source": [
    "def count(y):\n",
    "    return sum([len(y.get(x, 0)) for x in y])"
   ]
  },
  {
   "cell_type": "code",
   "execution_count": 24,
   "metadata": {},
   "outputs": [],
   "source": [
    "class Clients:\n",
    "    def __init__(self, n_client, category_dict, desire_threshold=5):\n",
    "        self.category_dict = category_dict\n",
    "        self.category_list = list(category_dict.keys())\n",
    "        self.n_client = n_client\n",
    "        self.n_category = len(category_dict.keys())\n",
    "        self.n_commodity = count(category_dict)\n",
    "        self.desire_threshold_list = [desire_threshold] * n_client\n",
    "        self.preference_matrix = np.zeros((n_client, self.n_commodity))\n",
    "        self.desire_matrix = np.zeros((n_client, self.n_commodity))\n",
    "        \n",
    "        self.generate_client_distribution()\n",
    "        \n",
    "    def generate_client_distribution(self):\n",
    "        proba_category = np.random.uniform(0, 0.9, (self.n_client, self.n_category))\n",
    "        proba_commodity_list = []\n",
    "        for j in range(proba_category.shape[1]):\n",
    "            #print('---aaa---', np.expand_dims(proba_category[:,j],1).shape)\n",
    "            proba_commodity_list.append(np.repeat(np.expand_dims(proba_category[:,j],1), len(self.category_dict[self.category_list[j]]), axis=1))\n",
    "        self.preference_matrix = np.hstack(proba_commodity_list)\n",
    "        #print(proba_commodity_list[0].shape)\n",
    "        #print(proba_commodity_list[1].shape)\n",
    "        #print(self.proba_commodity.shape)\n",
    "        self.preference_matrix += np.random.uniform(0, 0.1, (self.n_client, self.n_commodity))\n",
    "        return\n",
    "    \n",
    "    def get_clients(self, n):\n",
    "        return np.random.choice(list(range(self.n_client)), n, replace=False)\n",
    "    \n",
    "    def update_desire(self, clients_list, rate_rise=None, rate_decay=0.01):\n",
    "        if rate_decay is not None:\n",
    "            self.desire_matrix *= 1 - rate_decay\n",
    "        \n",
    "        if rate_rise is None:\n",
    "            rate_rise = np.random.normal()\n",
    "        if rate_rise < 0:\n",
    "            rate_rise = 0\n",
    "        self.desire_matrix[clients_list] += rate_rise * self.preference_matrix[clients_list]\n",
    "    \n",
    "    def get_waiting_list(self, client):\n",
    "        client_desire = self.desire_matrix[client]\n",
    "        return client_desire[client_desire>self.desire_threshold_list[client]]\n",
    "    \n",
    "    def return_command(self, client, recommandation):\n",
    "        pass"
   ]
  },
  {
   "cell_type": "code",
   "execution_count": 25,
   "metadata": {},
   "outputs": [],
   "source": [
    "C = Clients(n_client=10, category_dict=category_dict)"
   ]
  },
  {
   "cell_type": "code",
   "execution_count": 26,
   "metadata": {
    "scrolled": true
   },
   "outputs": [
    {
     "data": {
      "text/plain": [
       "array([0, 3, 1, 2, 6])"
      ]
     },
     "execution_count": 26,
     "metadata": {},
     "output_type": "execute_result"
    }
   ],
   "source": [
    "C.get_clients(5)"
   ]
  },
  {
   "cell_type": "code",
   "execution_count": 28,
   "metadata": {},
   "outputs": [
    {
     "data": {
      "text/plain": [
       "array([[0., 0., 0., 0., 0., 0.],\n",
       "       [0., 0., 0., 0., 0., 0.],\n",
       "       [0., 0., 0., 0., 0., 0.],\n",
       "       [0., 0., 0., 0., 0., 0.],\n",
       "       [0., 0., 0., 0., 0., 0.],\n",
       "       [0., 0., 0., 0., 0., 0.],\n",
       "       [0., 0., 0., 0., 0., 0.],\n",
       "       [0., 0., 0., 0., 0., 0.],\n",
       "       [0., 0., 0., 0., 0., 0.],\n",
       "       [0., 0., 0., 0., 0., 0.]])"
      ]
     },
     "execution_count": 28,
     "metadata": {},
     "output_type": "execute_result"
    }
   ],
   "source": [
    "C.desire_matrix"
   ]
  },
  {
   "cell_type": "code",
   "execution_count": 18,
   "metadata": {},
   "outputs": [],
   "source": [
    "C.generate_client_distribution()"
   ]
  },
  {
   "cell_type": "code",
   "execution_count": 81,
   "metadata": {},
   "outputs": [],
   "source": [
    "C.update_desire(C.get_clients(1), rate_rise=0.1)"
   ]
  },
  {
   "cell_type": "code",
   "execution_count": 82,
   "metadata": {},
   "outputs": [
    {
     "data": {
      "text/plain": [
       "array([[0.03503334, 0.03406123, 0.03200806, 0.06156058, 0.06872026,\n",
       "        0.06539613],\n",
       "       [0.24312447, 0.24551222, 0.28812782, 0.61330701, 0.53840514,\n",
       "        0.58843675],\n",
       "       [0.07995713, 0.08296628, 0.09003697, 0.14529365, 0.13972012,\n",
       "        0.12823477],\n",
       "       [0.        , 0.        , 0.        , 0.        , 0.        ,\n",
       "        0.        ],\n",
       "       [0.        , 0.        , 0.        , 0.        , 0.        ,\n",
       "        0.        ],\n",
       "       [0.15771098, 0.15710164, 0.14919789, 0.02707551, 0.03139111,\n",
       "        0.01663223],\n",
       "       [0.        , 0.        , 0.        , 0.        , 0.        ,\n",
       "        0.        ],\n",
       "       [0.23370533, 0.1732092 , 0.14725276, 0.21176037, 0.2078271 ,\n",
       "        0.31404906],\n",
       "       [0.35450815, 0.3890847 , 0.44162286, 0.16031986, 0.13195712,\n",
       "        0.20311869],\n",
       "       [0.03097729, 0.03450309, 0.03253343, 0.04515095, 0.04483162,\n",
       "        0.04331868]])"
      ]
     },
     "execution_count": 82,
     "metadata": {},
     "output_type": "execute_result"
    }
   ],
   "source": [
    "C.desire_matrix"
   ]
  },
  {
   "cell_type": "code",
   "execution_count": 86,
   "metadata": {},
   "outputs": [
    {
     "data": {
      "text/plain": [
       "array([], dtype=float64)"
      ]
     },
     "execution_count": 86,
     "metadata": {},
     "output_type": "execute_result"
    }
   ],
   "source": [
    "C.get_waiting_list(0)"
   ]
  },
  {
   "cell_type": "code",
   "execution_count": 85,
   "metadata": {},
   "outputs": [
    {
     "data": {
      "text/plain": [
       "array([list([1]), list([1, 2])], dtype=object)"
      ]
     },
     "execution_count": 85,
     "metadata": {},
     "output_type": "execute_result"
    }
   ],
   "source": [
    "np.array([[1], [1,2]])"
   ]
  },
  {
   "cell_type": "code",
   "execution_count": null,
   "metadata": {},
   "outputs": [],
   "source": []
  }
 ],
 "metadata": {
  "kernelspec": {
   "display_name": "Python 3",
   "language": "python",
   "name": "python3"
  },
  "language_info": {
   "codemirror_mode": {
    "name": "ipython",
    "version": 3
   },
   "file_extension": ".py",
   "mimetype": "text/x-python",
   "name": "python",
   "nbconvert_exporter": "python",
   "pygments_lexer": "ipython3",
   "version": "3.7.5"
  }
 },
 "nbformat": 4,
 "nbformat_minor": 2
}
