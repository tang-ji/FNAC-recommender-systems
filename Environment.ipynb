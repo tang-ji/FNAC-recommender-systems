{
 "cells": [
  {
   "cell_type": "code",
   "execution_count": 1,
   "metadata": {},
   "outputs": [],
   "source": [
    "import numpy as np"
   ]
  },
  {
   "cell_type": "code",
   "execution_count": 2,
   "metadata": {},
   "outputs": [],
   "source": [
    "category_dict = {}\n",
    "category_dict[\"Informatique\"] = [\"Tablette\", \"Ordinateur\", \"Portable\"]\n",
    "category_dict[\"Film\"] = [\"DVD\", \"TV\", \"Cinéma\"]"
   ]
  },
  {
   "cell_type": "code",
   "execution_count": 4,
   "metadata": {},
   "outputs": [],
   "source": [
    "def count(y):\n",
    "    return sum([len(y.get(x, 0)) for x in y])"
   ]
  },
  {
   "cell_type": "code",
   "execution_count": 87,
   "metadata": {},
   "outputs": [],
   "source": [
    "class Clients:\n",
    "    def __init__(self, n_client, category_dict, desire_threshold=5):\n",
    "        self.category_dict = category_dict\n",
    "        self.category_list = list(category_dict.keys())\n",
    "        self.n_client = n_client\n",
    "        self.n_category = len(category_dict.keys())\n",
    "        self.n_commodity = count(category_dict)\n",
    "        self.desire_threshold_list = [desire_threshold] * n_client\n",
    "        self.preference_matrix = np.zeros((n_client, self.n_commodity))\n",
    "        self.desire_matrix = np.zeros((n_client, self.n_commodity))\n",
    "        \n",
    "        self.generate_client_distribution()\n",
    "        \n",
    "    def generate_client_distribution(self):\n",
    "        proba_category = np.random.uniform(0, 0.9, (self.n_client, self.n_category))\n",
    "        proba_commodity_list = []\n",
    "        for j in range(proba_category.shape[1]):\n",
    "            #print('---aaa---', np.expand_dims(proba_category[:,j],1).shape)\n",
    "            proba_commodity_list.append(np.repeat(np.expand_dims(proba_category[:,j],1), len(self.category_dict[self.category_list[j]]), axis=1))\n",
    "        self.preference_matrix = np.hstack(proba_commodity_list)\n",
    "        #print(proba_commodity_list[0].shape)\n",
    "        #print(proba_commodity_list[1].shape)\n",
    "        #print(self.proba_commodity.shape)\n",
    "        self.preference_matrix += np.random.uniform(0, 0.1, (self.n_client, self.n_commodity))\n",
    "        return\n",
    "    \n",
    "    def get_clients(self, n):\n",
    "        return np.random.choice(list(range(self.n_client)), n, replace=False)\n",
    "    \n",
    "    def update_desire(self, clients_list, rate_rise=None, rate_decay=0.01):\n",
    "        if rate_decay is not None:\n",
    "            self.desire_matrix *= 1 - rate_decay\n",
    "        \n",
    "        if rate_rise is None:\n",
    "            rate_rise = np.random.normal()\n",
    "        if rate_rise < 0:\n",
    "            rate_rise = 0\n",
    "        self.desire_matrix[clients_list] += rate_rise * self.preference_matrix[clients_list]\n",
    "    \n",
    "    def get_waiting_list(self, client):\n",
    "        client_desire = self.desire_matrix[client]\n",
    "        return client_desire[client_desire>self.desire_threshold_list[client]]\n",
    "    \n",
    "    def return_command(self, client, recommandation_list):\n",
    "        client_waiting_list = self.get_waiting_list(client)\n",
    "        return np.array([x for x in recommandation_list if x in client_waiting_list])"
   ]
  },
  {
   "cell_type": "code",
   "execution_count": 88,
   "metadata": {},
   "outputs": [],
   "source": [
    "C = Clients(n_client=10, category_dict=category_dict)"
   ]
  },
  {
   "cell_type": "code",
   "execution_count": 26,
   "metadata": {
    "scrolled": true
   },
   "outputs": [
    {
     "data": {
      "text/plain": [
       "array([0, 3, 1, 2, 6])"
      ]
     },
     "execution_count": 26,
     "metadata": {},
     "output_type": "execute_result"
    }
   ],
   "source": [
    "C.get_clients(5)"
   ]
  },
  {
   "cell_type": "code",
   "execution_count": 28,
   "metadata": {},
   "outputs": [
    {
     "data": {
      "text/plain": [
       "array([[0., 0., 0., 0., 0., 0.],\n",
       "       [0., 0., 0., 0., 0., 0.],\n",
       "       [0., 0., 0., 0., 0., 0.],\n",
       "       [0., 0., 0., 0., 0., 0.],\n",
       "       [0., 0., 0., 0., 0., 0.],\n",
       "       [0., 0., 0., 0., 0., 0.],\n",
       "       [0., 0., 0., 0., 0., 0.],\n",
       "       [0., 0., 0., 0., 0., 0.],\n",
       "       [0., 0., 0., 0., 0., 0.],\n",
       "       [0., 0., 0., 0., 0., 0.]])"
      ]
     },
     "execution_count": 28,
     "metadata": {},
     "output_type": "execute_result"
    }
   ],
   "source": [
    "C.desire_matrix"
   ]
  },
  {
   "cell_type": "code",
   "execution_count": 18,
   "metadata": {},
   "outputs": [],
   "source": [
    "C.generate_client_distribution()"
   ]
  },
  {
   "cell_type": "code",
   "execution_count": 93,
   "metadata": {},
   "outputs": [],
   "source": [
    "C.update_desire(C.get_clients(1), rate_rise=0.1)"
   ]
  },
  {
   "cell_type": "code",
   "execution_count": 94,
   "metadata": {},
   "outputs": [
    {
     "data": {
      "text/plain": [
       "array([[0.02232843, 0.02392346, 0.01721845, 0.04254576, 0.0439518 ,\n",
       "        0.04015736],\n",
       "       [0.        , 0.        , 0.        , 0.        , 0.        ,\n",
       "        0.        ],\n",
       "       [0.        , 0.        , 0.        , 0.        , 0.        ,\n",
       "        0.        ],\n",
       "       [0.        , 0.        , 0.        , 0.        , 0.        ,\n",
       "        0.        ],\n",
       "       [0.04120204, 0.03286925, 0.03767152, 0.14467622, 0.14281434,\n",
       "        0.1467491 ],\n",
       "       [0.        , 0.        , 0.        , 0.        , 0.        ,\n",
       "        0.        ],\n",
       "       [0.        , 0.        , 0.        , 0.        , 0.        ,\n",
       "        0.        ],\n",
       "       [0.        , 0.        , 0.        , 0.        , 0.        ,\n",
       "        0.        ],\n",
       "       [0.        , 0.        , 0.        , 0.        , 0.        ,\n",
       "        0.        ],\n",
       "       [0.        , 0.        , 0.        , 0.        , 0.        ,\n",
       "        0.        ]])"
      ]
     },
     "execution_count": 94,
     "metadata": {},
     "output_type": "execute_result"
    }
   ],
   "source": [
    "C.desire_matrix"
   ]
  },
  {
   "cell_type": "code",
   "execution_count": 95,
   "metadata": {},
   "outputs": [
    {
     "data": {
      "text/plain": [
       "array([], dtype=float64)"
      ]
     },
     "execution_count": 95,
     "metadata": {},
     "output_type": "execute_result"
    }
   ],
   "source": [
    "C.get_waiting_list(0)"
   ]
  },
  {
   "cell_type": "code",
   "execution_count": 85,
   "metadata": {},
   "outputs": [
    {
     "data": {
      "text/plain": [
       "array([list([1]), list([1, 2])], dtype=object)"
      ]
     },
     "execution_count": 85,
     "metadata": {},
     "output_type": "execute_result"
    }
   ],
   "source": [
    "np.array([[1], [1,2]])"
   ]
  },
  {
   "cell_type": "code",
   "execution_count": null,
   "metadata": {},
   "outputs": [],
   "source": []
  }
 ],
 "metadata": {
  "kernelspec": {
   "display_name": "Python 3",
   "language": "python",
   "name": "python3"
  },
  "language_info": {
   "codemirror_mode": {
    "name": "ipython",
    "version": 3
   },
   "file_extension": ".py",
   "mimetype": "text/x-python",
   "name": "python",
   "nbconvert_exporter": "python",
   "pygments_lexer": "ipython3",
   "version": "3.7.5"
  }
 },
 "nbformat": 4,
 "nbformat_minor": 2
}
